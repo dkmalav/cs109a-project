{
 "cells": [
  {
   "cell_type": "code",
   "execution_count": 1,
   "metadata": {
    "collapsed": false,
    "scrolled": true,
    "slideshow": {
     "slide_type": "slide"
    }
   },
   "outputs": [
    {
     "name": "stderr",
     "output_type": "stream",
     "text": [
      "/Users/dmalav/anaconda/lib/python2.7/site-packages/matplotlib/font_manager.py:273: UserWarning: Matplotlib is building the font cache using fc-list. This may take a moment.\n",
      "  warnings.warn('Matplotlib is building the font cache using fc-list. This may take a moment.')\n"
     ]
    }
   ],
   "source": [
    "import numpy as np\n",
    "import pandas as pd\n",
    "import matplotlib.pyplot as plt\n",
    "import matplotlib\n",
    "from datetime import datetime, timedelta\n",
    "import sqlite3 as sqlite\n",
    "from sklearn.feature_extraction.text import CountVectorizer\n",
    "from sklearn.feature_extraction.text import TfidfVectorizer\n",
    "\n",
    "import re\n",
    "%matplotlib inline"
   ]
  },
  {
   "cell_type": "markdown",
   "metadata": {},
   "source": [
    "<h1>Data Collection</h1>\n",
    "<h3>US GDP Data</h3>"
   ]
  },
  {
   "cell_type": "code",
   "execution_count": 2,
   "metadata": {
    "collapsed": false
   },
   "outputs": [
    {
     "data": {
      "text/html": [
       "<div>\n",
       "<table border=\"1\" class=\"dataframe\">\n",
       "  <thead>\n",
       "    <tr style=\"text-align: right;\">\n",
       "      <th></th>\n",
       "      <th>quarter</th>\n",
       "      <th>gdp_current</th>\n",
       "      <th>gdp_chained</th>\n",
       "    </tr>\n",
       "  </thead>\n",
       "  <tbody>\n",
       "    <tr>\n",
       "      <th>0</th>\n",
       "      <td>1947q1</td>\n",
       "      <td>243.1</td>\n",
       "      <td>1934.5</td>\n",
       "    </tr>\n",
       "    <tr>\n",
       "      <th>1</th>\n",
       "      <td>1947q2</td>\n",
       "      <td>246.3</td>\n",
       "      <td>1932.3</td>\n",
       "    </tr>\n",
       "    <tr>\n",
       "      <th>2</th>\n",
       "      <td>1947q3</td>\n",
       "      <td>250.1</td>\n",
       "      <td>1930.3</td>\n",
       "    </tr>\n",
       "    <tr>\n",
       "      <th>3</th>\n",
       "      <td>1947q4</td>\n",
       "      <td>260.3</td>\n",
       "      <td>1960.7</td>\n",
       "    </tr>\n",
       "    <tr>\n",
       "      <th>4</th>\n",
       "      <td>1948q1</td>\n",
       "      <td>266.2</td>\n",
       "      <td>1989.5</td>\n",
       "    </tr>\n",
       "  </tbody>\n",
       "</table>\n",
       "</div>"
      ],
      "text/plain": [
       "  quarter  gdp_current  gdp_chained\n",
       "0  1947q1        243.1       1934.5\n",
       "1  1947q2        246.3       1932.3\n",
       "2  1947q3        250.1       1930.3\n",
       "3  1947q4        260.3       1960.7\n",
       "4  1948q1        266.2       1989.5"
      ]
     },
     "execution_count": 2,
     "metadata": {},
     "output_type": "execute_result"
    }
   ],
   "source": [
    "gdp_data = pd.read_csv('../data/gdp.csv', sep = '\\t')\n",
    "gdp_data.head()"
   ]
  },
  {
   "cell_type": "code",
   "execution_count": 3,
   "metadata": {
    "collapsed": false
   },
   "outputs": [],
   "source": [
    "def quarter_to_date(quarter):\n",
    "    year = quarter[:-2]\n",
    "    q = quarter[-2:]\n",
    "    if q == 'q1':\n",
    "        return (datetime(year=int(year), month=1, day=1).date(), \n",
    "                datetime(year=int(year), month=3, day=31).date())\n",
    "    elif q == 'q2':\n",
    "        return (datetime(year=int(year), month=4, day=1).date(),\n",
    "                datetime(year=int(year), month=6, day=30).date())\n",
    "    elif q == 'q3':\n",
    "        return (datetime(year=int(year), month=7, day=1).date(), \n",
    "                datetime(year=int(year), month=9, day=30).date())\n",
    "    elif q == 'q4':\n",
    "        return (datetime(year=int(year), month=10, day=1).date(), \n",
    "                datetime(year=int(year), month=12, day=31).date())"
   ]
  },
  {
   "cell_type": "code",
   "execution_count": 4,
   "metadata": {
    "collapsed": false
   },
   "outputs": [
    {
     "data": {
      "text/html": [
       "<div>\n",
       "<table border=\"1\" class=\"dataframe\">\n",
       "  <thead>\n",
       "    <tr style=\"text-align: right;\">\n",
       "      <th></th>\n",
       "      <th>quarter</th>\n",
       "      <th>gdp_current</th>\n",
       "      <th>gdp_chained</th>\n",
       "      <th>start_date</th>\n",
       "      <th>end_date</th>\n",
       "    </tr>\n",
       "  </thead>\n",
       "  <tbody>\n",
       "    <tr>\n",
       "      <th>0</th>\n",
       "      <td>1947q1</td>\n",
       "      <td>243.1</td>\n",
       "      <td>1934.5</td>\n",
       "      <td>1947-01-01</td>\n",
       "      <td>1947-01-01</td>\n",
       "    </tr>\n",
       "    <tr>\n",
       "      <th>1</th>\n",
       "      <td>1947q2</td>\n",
       "      <td>246.3</td>\n",
       "      <td>1932.3</td>\n",
       "      <td>1947-04-01</td>\n",
       "      <td>1947-04-01</td>\n",
       "    </tr>\n",
       "    <tr>\n",
       "      <th>2</th>\n",
       "      <td>1947q3</td>\n",
       "      <td>250.1</td>\n",
       "      <td>1930.3</td>\n",
       "      <td>1947-07-01</td>\n",
       "      <td>1947-07-01</td>\n",
       "    </tr>\n",
       "    <tr>\n",
       "      <th>3</th>\n",
       "      <td>1947q4</td>\n",
       "      <td>260.3</td>\n",
       "      <td>1960.7</td>\n",
       "      <td>1947-10-01</td>\n",
       "      <td>1947-10-01</td>\n",
       "    </tr>\n",
       "    <tr>\n",
       "      <th>4</th>\n",
       "      <td>1948q1</td>\n",
       "      <td>266.2</td>\n",
       "      <td>1989.5</td>\n",
       "      <td>1948-01-01</td>\n",
       "      <td>1948-01-01</td>\n",
       "    </tr>\n",
       "  </tbody>\n",
       "</table>\n",
       "</div>"
      ],
      "text/plain": [
       "  quarter  gdp_current  gdp_chained  start_date    end_date\n",
       "0  1947q1        243.1       1934.5  1947-01-01  1947-01-01\n",
       "1  1947q2        246.3       1932.3  1947-04-01  1947-04-01\n",
       "2  1947q3        250.1       1930.3  1947-07-01  1947-07-01\n",
       "3  1947q4        260.3       1960.7  1947-10-01  1947-10-01\n",
       "4  1948q1        266.2       1989.5  1948-01-01  1948-01-01"
      ]
     },
     "execution_count": 4,
     "metadata": {},
     "output_type": "execute_result"
    }
   ],
   "source": [
    "gdp_data['start_date'] = gdp_data['quarter'].apply(lambda x: quarter_to_date(x)[0])\n",
    "gdp_data['end_date'] = gdp_data['quarter'].apply(lambda x: quarter_to_date(x)[0])\n",
    "gdp_data.head()"
   ]
  },
  {
   "cell_type": "code",
   "execution_count": 5,
   "metadata": {
    "collapsed": false
   },
   "outputs": [
    {
     "data": {
      "image/png": "[encoded data removed]",
      "text/plain": [
       "<matplotlib.figure.Figure at 0x115fa7f10>"
      ]
     },
     "metadata": {},
     "output_type": "display_data"
    }
   ],
   "source": [
    "plt.figure(figsize=(10,5))\n",
    "plt.title('US GDP')\n",
    "plt.plot(gdp_data['end_date'].values, gdp_data['gdp_current'].values, label='Current $')\n",
    "plt.plot(gdp_data['end_date'].values, gdp_data['gdp_chained'].values, label='Chained (2009) $')\n",
    "plt.xlabel('Year')\n",
    "plt.ylabel('GDP ($M)')\n",
    "plt.legend()\n",
    "plt.show()"
   ]
  },
  {
   "cell_type": "code",
   "execution_count": 6,
   "metadata": {
    "collapsed": false
   },
   "outputs": [
    {
     "data": {
      "text/html": [
       "<div>\n",
       "<table border=\"1\" class=\"dataframe\">\n",
       "  <thead>\n",
       "    <tr style=\"text-align: right;\">\n",
       "      <th></th>\n",
       "      <th>quarter</th>\n",
       "      <th>gdp_current</th>\n",
       "      <th>gdp_chained</th>\n",
       "      <th>start_date</th>\n",
       "      <th>end_date</th>\n",
       "      <th>rate</th>\n",
       "      <th>sentiment</th>\n",
       "      <th>rate_slope</th>\n",
       "      <th>sentiment2</th>\n",
       "    </tr>\n",
       "  </thead>\n",
       "  <tbody>\n",
       "    <tr>\n",
       "      <th>0</th>\n",
       "      <td>1947q1</td>\n",
       "      <td>243.1</td>\n",
       "      <td>1934.5</td>\n",
       "      <td>1947-01-01</td>\n",
       "      <td>1947-01-01</td>\n",
       "      <td>NaN</td>\n",
       "      <td>neg</td>\n",
       "      <td>NaN</td>\n",
       "      <td>neg</td>\n",
       "    </tr>\n",
       "    <tr>\n",
       "      <th>1</th>\n",
       "      <td>1947q2</td>\n",
       "      <td>246.3</td>\n",
       "      <td>1932.3</td>\n",
       "      <td>1947-04-01</td>\n",
       "      <td>1947-04-01</td>\n",
       "      <td>-0.001137</td>\n",
       "      <td>neg</td>\n",
       "      <td>NaN</td>\n",
       "      <td>neg</td>\n",
       "    </tr>\n",
       "    <tr>\n",
       "      <th>2</th>\n",
       "      <td>1947q3</td>\n",
       "      <td>250.1</td>\n",
       "      <td>1930.3</td>\n",
       "      <td>1947-07-01</td>\n",
       "      <td>1947-07-01</td>\n",
       "      <td>-0.001035</td>\n",
       "      <td>neg</td>\n",
       "      <td>-0.089874</td>\n",
       "      <td>neg</td>\n",
       "    </tr>\n",
       "    <tr>\n",
       "      <th>3</th>\n",
       "      <td>1947q4</td>\n",
       "      <td>260.3</td>\n",
       "      <td>1960.7</td>\n",
       "      <td>1947-10-01</td>\n",
       "      <td>1947-10-01</td>\n",
       "      <td>0.015749</td>\n",
       "      <td>pos</td>\n",
       "      <td>-16.215749</td>\n",
       "      <td>neg</td>\n",
       "    </tr>\n",
       "    <tr>\n",
       "      <th>4</th>\n",
       "      <td>1948q1</td>\n",
       "      <td>266.2</td>\n",
       "      <td>1989.5</td>\n",
       "      <td>1948-01-01</td>\n",
       "      <td>1948-01-01</td>\n",
       "      <td>0.014689</td>\n",
       "      <td>pos</td>\n",
       "      <td>-0.067320</td>\n",
       "      <td>neg</td>\n",
       "    </tr>\n",
       "  </tbody>\n",
       "</table>\n",
       "</div>"
      ],
      "text/plain": [
       "  quarter  gdp_current  gdp_chained  start_date    end_date      rate  \\\n",
       "0  1947q1        243.1       1934.5  1947-01-01  1947-01-01       NaN   \n",
       "1  1947q2        246.3       1932.3  1947-04-01  1947-04-01 -0.001137   \n",
       "2  1947q3        250.1       1930.3  1947-07-01  1947-07-01 -0.001035   \n",
       "3  1947q4        260.3       1960.7  1947-10-01  1947-10-01  0.015749   \n",
       "4  1948q1        266.2       1989.5  1948-01-01  1948-01-01  0.014689   \n",
       "\n",
       "  sentiment  rate_slope sentiment2  \n",
       "0       neg         NaN        neg  \n",
       "1       neg         NaN        neg  \n",
       "2       neg   -0.089874        neg  \n",
       "3       pos  -16.215749        neg  \n",
       "4       pos   -0.067320        neg  "
      ]
     },
     "execution_count": 6,
     "metadata": {},
     "output_type": "execute_result"
    }
   ],
   "source": [
    "gdp_data['rate'] = gdp_data['gdp_chained'].pct_change(1)\n",
    "gdp_data['sentiment'] = gdp_data['rate'].apply(lambda x : 'pos' if x > 0 else 'neg')\n",
    "gdp_data['rate_slope'] = gdp_data['rate'].pct_change(1)\n",
    "gdp_data['sentiment2'] = gdp_data['rate_slope'].apply(lambda x : 'pos' if x > 0 else 'neg')\n",
    "\n",
    "gdp_data.head()"
   ]
  },
  {
   "cell_type": "code",
   "execution_count": 8,
   "metadata": {
    "collapsed": false
   },
   "outputs": [
    {
     "data": {
      "image/png": "[encoded data removed]",
      "text/plain": [
       "<matplotlib.figure.Figure at 0x115feb650>"
      ]
     },
     "metadata": {},
     "output_type": "display_data"
    }
   ],
   "source": [
    "plt.figure(figsize=(10,5))\n",
    "plt.title('US GDP Growth Rate')\n",
    "plt.plot(gdp_data['end_date'].iloc[-100:], gdp_data['rate'].iloc[-100:])\n",
    "# plt.plot(gdp_data['end_date'].iloc[-100:], gdp_data['rate_slope'].iloc[-100:])\n",
    "plt.xlabel('Year')\n",
    "plt.ylabel('% Change')\n",
    "plt.legend()\n",
    "plt.show()"
   ]
  },
  {
   "cell_type": "code",
   "execution_count": 9,
   "metadata": {
    "collapsed": true
   },
   "outputs": [],
   "source": [
    "gdp_data.to_csv('response.csv', index=False)"
   ]
  },
  {
   "cell_type": "markdown",
   "metadata": {},
   "source": [
    "<h3>New Article Data Collection</h3>\n",
    "The New York Times (NYT) provides an Article Search API to fetch data related to news articles. This API does not return full text of articles, but it will return a number of helpful metadata such as subject terms, abstract, lead paragraph, and date, as well as URLs, which one could conceivably use to scrape the full text of articles. For this project we will be collecting lead paragraph for business articles for specified time period.\n",
    "In order to request data from NYT an API key must be requested from http://developer.nytimes.com/. The article search API is limited to 1K calls per day, and 5 calls per second. These limits impose challenge for collecting as much data as possible for a day and time period. Based on the limited time for the project, the data collection was limited to two API calls or 20 article per day. This allowed to request 500 days worth of data per day.\n",
    "A python wrapper was developed around NYT Article Search API to get articles for a given start and end date. The reqested lead paragraph data are then store in a file with file name reflecting the day in the format YYYYMMDD.txt"
   ]
  },
  {
   "cell_type": "code",
   "execution_count": 10,
   "metadata": {
    "collapsed": true
   },
   "outputs": [],
   "source": [
    "# Data collection using NYTimes API\n",
    "class NYTArticlesApi(object):\n",
    "    def __init__(self, api_key):\n",
    "        self.api_key = api_key\n",
    "        self.url = 'https://api.nytimes.com/svc/search/v2/articlesearch.json'\n",
    "\n",
    "    def request_articles(self, start_date, end_date, page):\n",
    "        start_date_str = start_date.strftime('%Y%m%d')\n",
    "        end_date_str = end_date.strftime('%Y%m%d')\n",
    "\n",
    "        params = {\n",
    "            'api-key': self.api_key,\n",
    "            'fq': \"section_name:Business\",\n",
    "            'begin_date': start_date_str,\n",
    "            'end_date': end_date_str,\n",
    "            'fl': \"lead_paragraph\",\n",
    "            'sort': \"newest\",\n",
    "            'page': page\n",
    "        }\n",
    "        r = requests.get(self.url, params=params)\n",
    "\n",
    "        if r.status_code == 200:\n",
    "            response = json.loads(r.text)\n",
    "            docs = response['response']['docs']\n",
    "            return [item['lead_paragraph'] for item in docs]\n",
    "\n",
    "        print \"Error: api response: \", r.status_code, \"Message :\", r.text\n",
    "        return None\n",
    "\n",
    "    def fetch_articles(self, start_date, end_date, data_dir):\n",
    "        cur_date = start_date\n",
    "        while cur_date >= end_date:\n",
    "            print 'Processing ', cur_date, '...'\n",
    "            articles = []\n",
    "            # get 2 pages for each day, i.e. 20 articles\n",
    "            for page in range(2):\n",
    "                articles_page = self.request_articles(cur_date, cur_date, page)\n",
    "                if articles_page:\n",
    "                    articles += articles_page\n",
    "                else:\n",
    "                    print \"No data for page {0}.\".format(page)\n",
    "                    time.sleep(1)\n",
    "                    break\n",
    "                time.sleep(1)\n",
    "\n",
    "            if len(articles) > 0:\n",
    "                file_name = data_dir + cur_date.strftime('%Y%m%d') + '.txt'\n",
    "                with open(file_name, 'wb',) as f:\n",
    "                    for text in articles:\n",
    "                        if text:\n",
    "                            f.write(text.encode('utf-8').strip() + '\\n')\n",
    "\n",
    "            else:\n",
    "                print \"Error fetching articles for {0}.\".format(cur_date)\n",
    "                file_name = data_dir + \"last_date.txt\"\n",
    "                with open(file_name, 'wb',) as f:\n",
    "                    f.write(cur_date.strftime('%Y%m%d'))\n",
    "                return\n",
    "\n",
    "            cur_date -= timedelta(days=1)"
   ]
  },
  {
   "cell_type": "code",
   "execution_count": 11,
   "metadata": {
    "collapsed": false
   },
   "outputs": [],
   "source": [
    "# Class to load data in a SQLite database\n",
    "class SqliteDB(object):\n",
    "    def __init__(self, db_file):\n",
    "        self.db_file = db_file\n",
    "        self.con = sqlite.connect(db_file)\n",
    "        self.cur = self.con.cursor()\n",
    "    \n",
    "    def close_connection(self):\n",
    "        self.con.close()\n",
    "        \n",
    "    def create_articles_table(self):\n",
    "        self.cur.execute(\"CREATE TABLE Articles(Day DATE, ArticleId INT, Article TEXT, UNIQUE(Day, ArticleId) ON CONFLICT REPLACE)\")\n",
    "\n",
    "    def insert_articles(self, file_name, cur_date):\n",
    "        with open(file_name, 'rb',) as f:\n",
    "            articles = f.readlines()\n",
    "\n",
    "        for i, article in enumerate(articles):\n",
    "            article = article.replace('\\'', '')\n",
    "            self.cur.execute(\"INSERT INTO Articles VALUES('{0}','{1}','{2}')\".format(cur_date, i, article))\n",
    "\n",
    "\n",
    "    def insert_data(self, data_dir, start_date, end_date):\n",
    "        print start_date, end_date\n",
    "        cur_date = start_date\n",
    "        while cur_date >= end_date:\n",
    "            cur_date_str = cur_date.strftime('%Y-%m-%d')\n",
    "            print cur_date_str\n",
    "            file_name = data_dir + cur_date.strftime('%Y%m%d') + '.txt'\n",
    "            # print file_name\n",
    "            if os.path.exists(file_name):\n",
    "                self.insert_articles(file_name, cur_date_str)\n",
    "\n",
    "            cur_date -= timedelta(days=1)\n",
    "        \n",
    "        self.con.commit()\n",
    "            \n",
    "    def query_data(self, query):\n",
    "        df = pd.read_sql(query, self.con)\n",
    "        return df;\n"
   ]
  },
  {
   "cell_type": "markdown",
   "metadata": {},
   "source": [
    "<h1>Loading and tokenizing data</h1>"
   ]
  },
  {
   "cell_type": "code",
   "execution_count": 12,
   "metadata": {
    "collapsed": true
   },
   "outputs": [],
   "source": [
    "def load_data(data_dir, start_date, end_date):\n",
    "    data = {}\n",
    "    cur_date = start_date\n",
    "    while cur_date >= end_date:\n",
    "        file_name = data_dir + cur_date.strftime('%Y%m%d') + '.txt'\n",
    "        if os.path.exists(file_name):\n",
    "            with open(file_name, 'rb',) as f:\n",
    "                articles = f.readlines()\n",
    "            data[cur_date] = \" \".join(articles)\n",
    "\n",
    "        cur_date -= timedelta(days=1)\n",
    "\n",
    "    return data"
   ]
  },
  {
   "cell_type": "code",
   "execution_count": 13,
   "metadata": {
    "collapsed": false
   },
   "outputs": [],
   "source": [
    "db = SqliteDB('../data/articles.sqlite')\n",
    "query = \"SELECT strftime(\\\"%Y\\\", Day) as 'year', count(*) as 'count' FROM Articles group by strftime(\\\"%Y\\\", Day)\"\n",
    "df = db.query_data(query)"
   ]
  },
  {
   "cell_type": "code",
   "execution_count": 14,
   "metadata": {
    "collapsed": false
   },
   "outputs": [
    {
     "data": {
      "image/png": "[encoded data removed]",
      "text/plain": [
       "<matplotlib.figure.Figure at 0x119bc8190>"
      ]
     },
     "metadata": {},
     "output_type": "display_data"
    }
   ],
   "source": [
    "f, axs = plt.subplots(1,1,figsize=(15,5))\n",
    "plt.title('Number of articles vs year')\n",
    "plt.ylabel('Number of articles')\n",
    "df.plot(kind='bar', x='year', y='count', ax=axs, alpha=0.5)\n",
    "plt.show()"
   ]
  },
  {
   "cell_type": "code",
   "execution_count": 15,
   "metadata": {
    "collapsed": true
   },
   "outputs": [],
   "source": [
    "def load_words(start_date, end_date):\n",
    "    data = pd.DataFrame()\n",
    "    cur_date = start_date\n",
    "    while cur_date <= end_date:\n",
    "        next_date = cur_date + timedelta(days=30)\n",
    "        query = \"SELECT Day as day, Article as articles FROM Articles where Day >= '{0}' and Day <='{1}'\".format(cur_date, next_date)\n",
    "        df = db.query_data(query)\n",
    "        df['date'] = pd.to_datetime(df['day'])\n",
    "        df = df.drop('day', 1)\n",
    "        df['month'] = df['date'].apply(lambda d: str(d.year) + '-' + str(d.month))\n",
    "        df['quarter'] = df['date'].apply(lambda d: str(d.year) + 'q' + str((d.month-1)//3+1))\n",
    "        \n",
    "        data = data.append(df)\n",
    "\n",
    "        cur_date = next_date + timedelta(days=1)\n",
    "        \n",
    "    return data"
   ]
  },
  {
   "cell_type": "code",
   "execution_count": 16,
   "metadata": {
    "collapsed": false
   },
   "outputs": [
    {
     "data": {
      "text/html": [
       "<div>\n",
       "<table border=\"1\" class=\"dataframe\">\n",
       "  <thead>\n",
       "    <tr style=\"text-align: right;\">\n",
       "      <th></th>\n",
       "      <th>articles</th>\n",
       "      <th>date</th>\n",
       "      <th>month</th>\n",
       "      <th>quarter</th>\n",
       "    </tr>\n",
       "  </thead>\n",
       "  <tbody>\n",
       "    <tr>\n",
       "      <th>0</th>\n",
       "      <td>LEAD: The Onset Corporation, an acquisition co...</td>\n",
       "      <td>1988-01-01</td>\n",
       "      <td>1988-1</td>\n",
       "      <td>1988q1</td>\n",
       "    </tr>\n",
       "    <tr>\n",
       "      <th>1</th>\n",
       "      <td>LEAD: *3*** COMPANY REPORTS ** *3*INTEGRATED G...</td>\n",
       "      <td>1988-01-01</td>\n",
       "      <td>1988-1</td>\n",
       "      <td>1988q1</td>\n",
       "    </tr>\n",
       "    <tr>\n",
       "      <th>2</th>\n",
       "      <td>LEAD: Orders to the nations factories edged up...</td>\n",
       "      <td>1988-01-01</td>\n",
       "      <td>1988-1</td>\n",
       "      <td>1988q1</td>\n",
       "    </tr>\n",
       "    <tr>\n",
       "      <th>3</th>\n",
       "      <td>LEAD: Texaco Inc. intends to borrow $3.4 billi...</td>\n",
       "      <td>1988-01-01</td>\n",
       "      <td>1988-1</td>\n",
       "      <td>1988q1</td>\n",
       "    </tr>\n",
       "    <tr>\n",
       "      <th>4</th>\n",
       "      <td>LEAD: INTERNATIONAL The dollar ended a bleak y...</td>\n",
       "      <td>1988-01-01</td>\n",
       "      <td>1988-1</td>\n",
       "      <td>1988q1</td>\n",
       "    </tr>\n",
       "  </tbody>\n",
       "</table>\n",
       "</div>"
      ],
      "text/plain": [
       "                                            articles       date   month  \\\n",
       "0  LEAD: The Onset Corporation, an acquisition co... 1988-01-01  1988-1   \n",
       "1  LEAD: *3*** COMPANY REPORTS ** *3*INTEGRATED G... 1988-01-01  1988-1   \n",
       "2  LEAD: Orders to the nations factories edged up... 1988-01-01  1988-1   \n",
       "3  LEAD: Texaco Inc. intends to borrow $3.4 billi... 1988-01-01  1988-1   \n",
       "4  LEAD: INTERNATIONAL The dollar ended a bleak y... 1988-01-01  1988-1   \n",
       "\n",
       "  quarter  \n",
       "0  1988q1  \n",
       "1  1988q1  \n",
       "2  1988q1  \n",
       "3  1988q1  \n",
       "4  1988q1  "
      ]
     },
     "execution_count": 16,
     "metadata": {},
     "output_type": "execute_result"
    }
   ],
   "source": [
    "start_date = datetime(year=1988, month=1, day=1).date()\n",
    "end_date = datetime(year=2016, month=10, day=31).date()\n",
    "\n",
    "all_data = load_words(start_date, end_date)\n",
    "all_data.head()"
   ]
  },
  {
   "cell_type": "code",
   "execution_count": 17,
   "metadata": {
    "collapsed": false
   },
   "outputs": [
    {
     "data": {
      "text/html": [
       "<div>\n",
       "<table border=\"1\" class=\"dataframe\">\n",
       "  <thead>\n",
       "    <tr style=\"text-align: right;\">\n",
       "      <th></th>\n",
       "      <th>quarter</th>\n",
       "      <th>articles</th>\n",
       "    </tr>\n",
       "  </thead>\n",
       "  <tbody>\n",
       "    <tr>\n",
       "      <th>0</th>\n",
       "      <td>1988q1</td>\n",
       "      <td>the onset corporation, an acquisition company...</td>\n",
       "    </tr>\n",
       "    <tr>\n",
       "      <th>1</th>\n",
       "      <td>1988q2</td>\n",
       "      <td>*3*** company reports ** *3*quick &amp; reilly gr...</td>\n",
       "    </tr>\n",
       "    <tr>\n",
       "      <th>2</th>\n",
       "      <td>1988q3</td>\n",
       "      <td>prime minister margaret thatcher of britain s...</td>\n",
       "    </tr>\n",
       "    <tr>\n",
       "      <th>3</th>\n",
       "      <td>1988q4</td>\n",
       "      <td>delchamps inc., a regional supermarket chain ...</td>\n",
       "    </tr>\n",
       "    <tr>\n",
       "      <th>4</th>\n",
       "      <td>1989q1</td>\n",
       "      <td>magazine redesigns are not aimed only at garn...</td>\n",
       "    </tr>\n",
       "  </tbody>\n",
       "</table>\n",
       "</div>"
      ],
      "text/plain": [
       "  quarter                                           articles\n",
       "0  1988q1   the onset corporation, an acquisition company...\n",
       "1  1988q2   *3*** company reports ** *3*quick & reilly gr...\n",
       "2  1988q3   prime minister margaret thatcher of britain s...\n",
       "3  1988q4   delchamps inc., a regional supermarket chain ...\n",
       "4  1989q1   magazine redesigns are not aimed only at garn..."
      ]
     },
     "execution_count": 17,
     "metadata": {},
     "output_type": "execute_result"
    }
   ],
   "source": [
    "# join all articles to form single string\n",
    "articles = all_data.groupby('quarter')['articles'].apply(lambda x: \"\".join(x))\n",
    "# remove LEAD: from api text, convert to lower case\n",
    "articles = articles.apply(lambda x: x.replace(\"LEAD:\", '').lower())\n",
    "articles = articles.to_frame().reset_index()\n",
    "articles.head()"
   ]
  },
  {
   "cell_type": "code",
   "execution_count": 18,
   "metadata": {
    "collapsed": false
   },
   "outputs": [
    {
     "data": {
      "text/html": [
       "<div>\n",
       "<table border=\"1\" class=\"dataframe\">\n",
       "  <thead>\n",
       "    <tr style=\"text-align: right;\">\n",
       "      <th></th>\n",
       "      <th>quarter</th>\n",
       "      <th>articles</th>\n",
       "      <th>gdp_current</th>\n",
       "      <th>gdp_chained</th>\n",
       "      <th>start_date</th>\n",
       "      <th>end_date</th>\n",
       "      <th>rate</th>\n",
       "      <th>sentiment</th>\n",
       "      <th>rate_slope</th>\n",
       "      <th>sentiment2</th>\n",
       "    </tr>\n",
       "  </thead>\n",
       "  <tbody>\n",
       "    <tr>\n",
       "      <th>0</th>\n",
       "      <td>1988q1</td>\n",
       "      <td>the onset corporation, an acquisition company...</td>\n",
       "      <td>5090.6</td>\n",
       "      <td>8339.3</td>\n",
       "      <td>1988-01-01</td>\n",
       "      <td>1988-01-01</td>\n",
       "      <td>0.005619</td>\n",
       "      <td>pos</td>\n",
       "      <td>-0.659665</td>\n",
       "      <td>neg</td>\n",
       "    </tr>\n",
       "    <tr>\n",
       "      <th>1</th>\n",
       "      <td>1988q2</td>\n",
       "      <td>*3*** company reports ** *3*quick &amp; reilly gr...</td>\n",
       "      <td>5207.7</td>\n",
       "      <td>8449.5</td>\n",
       "      <td>1988-04-01</td>\n",
       "      <td>1988-04-01</td>\n",
       "      <td>0.013215</td>\n",
       "      <td>pos</td>\n",
       "      <td>1.351592</td>\n",
       "      <td>pos</td>\n",
       "    </tr>\n",
       "    <tr>\n",
       "      <th>2</th>\n",
       "      <td>1988q3</td>\n",
       "      <td>prime minister margaret thatcher of britain s...</td>\n",
       "      <td>5299.5</td>\n",
       "      <td>8498.3</td>\n",
       "      <td>1988-07-01</td>\n",
       "      <td>1988-07-01</td>\n",
       "      <td>0.005775</td>\n",
       "      <td>pos</td>\n",
       "      <td>-0.562944</td>\n",
       "      <td>neg</td>\n",
       "    </tr>\n",
       "    <tr>\n",
       "      <th>3</th>\n",
       "      <td>1988q4</td>\n",
       "      <td>delchamps inc., a regional supermarket chain ...</td>\n",
       "      <td>5412.7</td>\n",
       "      <td>8610.9</td>\n",
       "      <td>1988-10-01</td>\n",
       "      <td>1988-10-01</td>\n",
       "      <td>0.013250</td>\n",
       "      <td>pos</td>\n",
       "      <td>1.294127</td>\n",
       "      <td>pos</td>\n",
       "    </tr>\n",
       "    <tr>\n",
       "      <th>4</th>\n",
       "      <td>1989q1</td>\n",
       "      <td>magazine redesigns are not aimed only at garn...</td>\n",
       "      <td>5527.4</td>\n",
       "      <td>8697.7</td>\n",
       "      <td>1989-01-01</td>\n",
       "      <td>1989-01-01</td>\n",
       "      <td>0.010080</td>\n",
       "      <td>pos</td>\n",
       "      <td>-0.239210</td>\n",
       "      <td>neg</td>\n",
       "    </tr>\n",
       "  </tbody>\n",
       "</table>\n",
       "</div>"
      ],
      "text/plain": [
       "  quarter                                           articles  gdp_current  \\\n",
       "0  1988q1   the onset corporation, an acquisition company...       5090.6   \n",
       "1  1988q2   *3*** company reports ** *3*quick & reilly gr...       5207.7   \n",
       "2  1988q3   prime minister margaret thatcher of britain s...       5299.5   \n",
       "3  1988q4   delchamps inc., a regional supermarket chain ...       5412.7   \n",
       "4  1989q1   magazine redesigns are not aimed only at garn...       5527.4   \n",
       "\n",
       "   gdp_chained  start_date    end_date      rate sentiment  rate_slope  \\\n",
       "0       8339.3  1988-01-01  1988-01-01  0.005619       pos   -0.659665   \n",
       "1       8449.5  1988-04-01  1988-04-01  0.013215       pos    1.351592   \n",
       "2       8498.3  1988-07-01  1988-07-01  0.005775       pos   -0.562944   \n",
       "3       8610.9  1988-10-01  1988-10-01  0.013250       pos    1.294127   \n",
       "4       8697.7  1989-01-01  1989-01-01  0.010080       pos   -0.239210   \n",
       "\n",
       "  sentiment2  \n",
       "0        neg  \n",
       "1        pos  \n",
       "2        neg  \n",
       "3        pos  \n",
       "4        neg  "
      ]
     },
     "execution_count": 18,
     "metadata": {},
     "output_type": "execute_result"
    }
   ],
   "source": [
    "dataset = pd.merge(articles, gdp_data, on='quarter')\n",
    "dataset.head()"
   ]
  },
  {
   "cell_type": "code",
   "execution_count": 19,
   "metadata": {
    "collapsed": false
   },
   "outputs": [
    {
     "name": "stdout",
     "output_type": "stream",
     "text": [
      "(116, 2)\n"
     ]
    }
   ],
   "source": [
    "articles['quarter'].values\n",
    "print articles.shape"
   ]
  },
  {
   "cell_type": "code",
   "execution_count": 20,
   "metadata": {
    "collapsed": false
   },
   "outputs": [
    {
     "name": "stdout",
     "output_type": "stream",
     "text": [
      "range of post lengths: 188757 - 12221\n",
      "mean of post lengths: 101383.652174\n"
     ]
    },
    {
     "data": {
      "image/png": "[encoded data removed]",
      "text/plain": [
       "<matplotlib.figure.Figure at 0x119f3ea10>"
      ]
     },
     "metadata": {},
     "output_type": "display_data"
    }
   ],
   "source": [
    "#Break each posts into words and count the number of words\n",
    "lengths = dataset['articles'].apply(lambda x: len(x.split(' ')))\n",
    "\n",
    "print 'range of post lengths:', np.max(lengths), '-', np.min(lengths)\n",
    "print 'mean of post lengths:', np.mean(lengths)\n",
    "\n",
    "fig, ax = plt.subplots(1, 1, figsize=(15, 6))\n",
    "\n",
    "#Histogram of the word counts in each post\n",
    "ax.hist(lengths, color='blue', bins=60, alpha=0.5)\n",
    "\n",
    "ax.set_xlabel('Number of Words in Post')\n",
    "ax.set_ylabel('Number of Posts')\n",
    "ax.set_title('Histogram of Length of Posts')\n",
    "\n",
    "plt.show()"
   ]
  },
  {
   "cell_type": "code",
   "execution_count": 21,
   "metadata": {
    "collapsed": false
   },
   "outputs": [
    {
     "name": "stdout",
     "output_type": "stream",
     "text": [
      "(115, 45459)\n"
     ]
    }
   ],
   "source": [
    "#Create a text vectorizer (turns text into array of numbers)\n",
    "#using a common list of English stop words\n",
    "\n",
    "# create featureset from vectorizin text\n",
    "corpus = dataset['articles']\n",
    "vectorizer = CountVectorizer(stop_words='english', min_df=3, token_pattern=r'[a-z][a-z][a-z]+')\n",
    "\n",
    "featureset = vectorizer.fit_transform(corpus)\n",
    "featureset = featureset.toarray()\n",
    "\n",
    "feature_names = vectorizer.get_feature_names()\n",
    "stop_words = vectorizer.get_stop_words()\n",
    "# print len(features), features\n",
    "print featureset.shape"
   ]
  },
  {
   "cell_type": "code",
   "execution_count": 34,
   "metadata": {
    "collapsed": false
   },
   "outputs": [
    {
     "data": {
      "text/plain": [
       "0"
      ]
     },
     "execution_count": 34,
     "metadata": {},
     "output_type": "execute_result"
    }
   ],
   "source": []
  },
  {
   "cell_type": "code",
   "execution_count": null,
   "metadata": {
    "collapsed": false
   },
   "outputs": [],
   "source": [
    "#Number of top words\n",
    "n = 50\n",
    "\n",
    "#Count the number of time each word occurs in the entire dataset\n",
    "word_freq = featureset.sum(axis=0)\n",
    "\n",
    "#Sort the words by their total frequency in the dataset\n",
    "words = zip(word_freq, feature_names)\n",
    "top_words = (sorted(words, key=lambda t: t[0], reverse=True))[:n]"
   ]
  },
  {
   "cell_type": "code",
   "execution_count": null,
   "metadata": {
    "collapsed": false
   },
   "outputs": [],
   "source": [
    "fig, ax = plt.subplots(1, 1, figsize=(15, 6))\n",
    "\n",
    "#Number of bars to use\n",
    "indices = np.arange(n)\n",
    "#Where to put the label under each bar\n",
    "width = 0.5\n",
    "#Bar plot of the frequencies of the top words\n",
    "ax.bar(indices, [word[0] for word in top_words], color='blue', alpha=0.5)\n",
    "\n",
    "ax.set_ylabel('Frequency')\n",
    "ax.set_title('Top ' + str(n) + ' Words')\n",
    "\n",
    "#Label the bars with the top words\n",
    "ax.set_xticks(indices + width)\n",
    "ax.set_xticklabels([word[1] for word in top_words])\n",
    "\n",
    "#Turn the labels sideways so they don't overlap\n",
    "labels = ax.get_xticklabels()\n",
    "plt.setp(labels, rotation=90, fontsize=10)\n",
    "\n",
    "plt.show()"
   ]
  },
  {
   "cell_type": "code",
   "execution_count": null,
   "metadata": {
    "collapsed": false,
    "scrolled": true
   },
   "outputs": [],
   "source": [
    "x = featureset\n",
    "y = dataset['sentiment2']\n",
    "\n",
    "fig, ax = plt.subplots(2, 1, figsize=(15, 12))\n",
    "\n",
    "#Number of bars to use\n",
    "indices = np.arange(n)\n",
    "#Where to put the label under each bar\n",
    "width = 0.5\n",
    "\n",
    "#Count the number of time each word occurs in the positive posts\n",
    "word_freq = x[y == 1].sum(axis=0)\n",
    "\n",
    "#Sort the words by their total frequency in the dataset\n",
    "words = zip(word_freq, feature_names)\n",
    "top_pos_words = (sorted(words, key=lambda t: t[0], reverse=True))[:n]\n",
    "\n",
    "\n",
    "\n",
    "#Bar plot of the frequencies of the top words\n",
    "ax[0].bar(indices, [word[0] for word in top_pos_words], color='blue', alpha=0.5)\n",
    "\n",
    "ax[0].set_ylabel('Frequency')\n",
    "ax[0].set_title('Top ' + str(n) + ' Words in Positive Posts')\n",
    "\n",
    "#Label the bars with the top words\n",
    "ax[0].set_xticks(indices + width)\n",
    "ax[0].set_xticklabels([word[1] for word in top_pos_words])\n",
    "\n",
    "#Turn the labels sideways so they don't overlap\n",
    "labels = ax[0].get_xticklabels()\n",
    "plt.setp(labels, rotation=90, fontsize=10)\n",
    "\n",
    "#Count the number of time each word occurs in the negative posts\n",
    "word_freq = x[y == 0].sum(axis=0)\n",
    "\n",
    "#Sort the words by their total frequency in the dataset\n",
    "words = zip(word_freq, feature_names)\n",
    "top_neg_words = (sorted(words, key=lambda t: t[0], reverse=True))[:n]\n",
    "\n",
    "#Bar plot of the frequencies of the top words\n",
    "ax[1].bar(indices, [word[0] for word in top_neg_words], color='red', alpha=0.5)\n",
    "\n",
    "ax[1].set_ylabel('Frequency')\n",
    "ax[1].set_title('Top ' + str(n) + ' Words in Negative Posts')\n",
    "\n",
    "#Label the bars with the top words\n",
    "ax[1].set_xticks(indices + width)\n",
    "ax[1].set_xticklabels([word[1] for word in top_neg_words])\n",
    "\n",
    "#Turn the labels sideways so they don't overlap\n",
    "labels = ax[1].get_xticklabels()\n",
    "plt.setp(labels, rotation=90, fontsize=10)\n",
    "plt.tight_layout()\n",
    "plt.show()"
   ]
  },
  {
   "cell_type": "markdown",
   "metadata": {},
   "source": [
    "<h1>Baseline Model</h1>"
   ]
  },
  {
   "cell_type": "code",
   "execution_count": null,
   "metadata": {
    "collapsed": false
   },
   "outputs": [],
   "source": [
    "X = featureset\n",
    "Y = dataset['sentiment2'].apply(lambda x: 1 if x == 'pos' else 0).values\n",
    "\n",
    "print X.shape, Y.shape\n",
    "print "
   ]
  },
  {
   "cell_type": "code",
   "execution_count": null,
   "metadata": {
    "collapsed": true
   },
   "outputs": [],
   "source": [
    "from sklearn.cross_validation import train_test_split\n",
    "x_train, x_test, y_train, y_test = train_test_split(X, Y, test_size=0.2, random_state=42)"
   ]
  },
  {
   "cell_type": "code",
   "execution_count": null,
   "metadata": {
    "collapsed": true
   },
   "outputs": [],
   "source": [
    "#Function for computing the accuracy a given model on the entire test set, the accuracy on class 0 in the test set\n",
    "#and the accuracy on class 1\n",
    "score = lambda model, x_test, y_test: pd.Series([model.score(x_test, y_test), \n",
    "                                                 model.score(x_test[y_test==0], y_test[y_test==0]),\n",
    "                                                 model.score(x_test[y_test==1], y_test[y_test==1])],\n",
    "                                                index=['overall accuracy', 'accuracy on class 0', 'accuracy on class 1'])"
   ]
  },
  {
   "cell_type": "code",
   "execution_count": null,
   "metadata": {
    "collapsed": true
   },
   "outputs": [],
   "source": [
    "#A model that labels everything 1\n",
    "class Pos_model(object):\n",
    "    def predict(self, x):\n",
    "        return np.array([1] * len(x))\n",
    "    def score(self, x, y):\n",
    "        y_pred = self.predict(x)\n",
    "        y_err = y - y_pred\n",
    "        return len(y_err[y_err == 0]) * 1. / len(y_err)\n",
    "    \n",
    "#A model that labels everything 0\n",
    "class Neg_model(object):\n",
    "    def predict(self, x):\n",
    "        return np.array([0] * len(x))\n",
    "    \n",
    "    def score(self, x, y):\n",
    "        y_pred = self.predict(x)\n",
    "        y_err = y - y_pred\n",
    "        return len(y_err[y_err == 0]) * 1. / len(y_err)\n",
    "\n",
    "\n",
    "#A model that randomly labels things\n",
    "class Random_model(object):\n",
    "    def predict(self, x):\n",
    "        return np.random.randint(0, 2, len(x))\n",
    "    \n",
    "    def score(self, x, y):\n",
    "        y_pred = self.predict(x)\n",
    "        y_err = y - y_pred\n",
    "        return len(y_err[y_err == 0]) * 1. / len(y_err)"
   ]
  },
  {
   "cell_type": "code",
   "execution_count": null,
   "metadata": {
    "collapsed": false
   },
   "outputs": [],
   "source": [
    "pos_model = Pos_model()\n",
    "pos_model_scores = score(pos_model, x_test, y_test)\n",
    "\n",
    "neg_model = Neg_model()\n",
    "neg_model_scores = score(neg_model, x_test, y_test)\n",
    "\n",
    "random_model = Random_model()\n",
    "random_model_scores = score(random_model, x_test, y_test)"
   ]
  },
  {
   "cell_type": "code",
   "execution_count": null,
   "metadata": {
    "collapsed": false
   },
   "outputs": [],
   "source": [
    "#Score Dataframe\n",
    "score_df = pd.DataFrame({'pos model': pos_model_scores,\n",
    "                         'neg model': neg_model_scores,\n",
    "                         'random model': random_model_scores})\n",
    "score_df"
   ]
  },
  {
   "cell_type": "code",
   "execution_count": null,
   "metadata": {
    "collapsed": false
   },
   "outputs": [],
   "source": [
    "dataset.head()"
   ]
  },
  {
   "cell_type": "code",
   "execution_count": null,
   "metadata": {
    "collapsed": false
   },
   "outputs": [],
   "source": [
    "dataset.to_csv('dataset.csv', sep='\\t', encoding='utf-8')"
   ]
  },
  {
   "cell_type": "code",
   "execution_count": null,
   "metadata": {
    "collapsed": false
   },
   "outputs": [],
   "source": [
    "featureset.head()"
   ]
  },
  {
   "cell_type": "code",
   "execution_count": null,
   "metadata": {
    "collapsed": true
   },
   "outputs": [],
   "source": []
  }
 ],
 "metadata": {
  "anaconda-cloud": {},
  "celltoolbar": "Slideshow",
  "kernelspec": {
   "display_name": "Python 2",
   "language": "python",
   "name": "python2"
  },
  "language_info": {
   "codemirror_mode": {
    "name": "ipython",
    "version": 2
   },
   "file_extension": ".py",
   "mimetype": "text/x-python",
   "name": "python",
   "nbconvert_exporter": "python",
   "pygments_lexer": "ipython2",
   "version": "2.7.11"
  }
 },
 "nbformat": 4,
 "nbformat_minor": 0
}
